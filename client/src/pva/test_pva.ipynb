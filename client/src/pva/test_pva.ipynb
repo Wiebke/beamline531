{
 "cells": [
  {
   "cell_type": "code",
   "execution_count": 1,
   "metadata": {},
   "outputs": [],
   "source": [
    "import time\n",
    "import numpy as np\n",
    "import pvaccess as pva\n",
    "import matplotlib.pyplot as plt\n",
    "from matplotlib.pyplot import plot, draw, show, ion\n",
    "ion()\n",
    "%matplotlib inline"
   ]
  },
  {
   "cell_type": "code",
   "execution_count": 2,
   "metadata": {},
   "outputs": [],
   "source": [
    "class pvaMonitor:\n",
    "    def __init__(self, fig=None, ax=None):\n",
    "        self.x = 0\n",
    "        self.y = 0\n",
    "        self.uid = 0\n",
    "        self.fig = fig\n",
    "        self.ax = ax\n",
    "        self.img = None\n",
    "        self.data = None\n",
    "\n",
    "    def monitor(self, pv):\n",
    "        try:\n",
    "            print('Got image uid: %d' % pv['uniqueId'])\n",
    "            self.uid = pv['uniqueId']\n",
    "            self.x, self.y = pv['dimension'][0]['size'], pv['dimension'][1]['size']\n",
    "            self.data = pv['value'][0]['ubyteValue'].reshape((self.x, self.y))\n",
    "            # self.updateData()\n",
    "        except Exception as e:\n",
    "            print('In callback function with error %s'%e)\n",
    "\n",
    "    def updateData(self):\n",
    "        # self.img = self.ax.imshow(self.data, 'gray') if self.img is None else self.img\n",
    "        self.img.set_data(self.data)"
   ]
  },
  {
   "cell_type": "code",
   "execution_count": 4,
   "metadata": {},
   "outputs": [],
   "source": [
    "def main(pvaChannel, pva_monitor):\n",
    "    c = pva.Channel(pvaChannel)\n",
    "    c.subscribe('monitor', pva_monitor.monitor)\n",
    "    # c.startMonitor('')\n",
    "    return c\n",
    "    # time.sleep(100)"
   ]
  },
  {
   "cell_type": "code",
   "execution_count": 5,
   "metadata": {},
   "outputs": [
    {
     "name": "stdout",
     "output_type": "stream",
     "text": [
      "Got image uid: 0\n",
      "In callback function with error list index out of range\n",
      "Got image uid: 1\n"
     ]
    },
    {
     "ename": "KeyboardInterrupt",
     "evalue": "",
     "output_type": "error",
     "traceback": [
      "\u001b[0;31m---------------------------------------------------------------------------\u001b[0m",
      "\u001b[0;31mKeyboardInterrupt\u001b[0m                         Traceback (most recent call last)",
      "Cell \u001b[0;32mIn[5], line 8\u001b[0m\n\u001b[1;32m      6\u001b[0m c\u001b[39m.\u001b[39mstartMonitor(\u001b[39m'\u001b[39m\u001b[39m'\u001b[39m)\n\u001b[1;32m      7\u001b[0m \u001b[39mwhile\u001b[39;00m \u001b[39m1\u001b[39m:\n\u001b[0;32m----> 8\u001b[0m     \u001b[39mpass\u001b[39;00m\n",
      "\u001b[0;31mKeyboardInterrupt\u001b[0m: "
     ]
    }
   ],
   "source": [
    "pvaChannel = '13SIM1:Pva1:Image'\n",
    "m = pvaMonitor()\n",
    "\n",
    "if __name__ == '__main__':\n",
    "    c = main(pvaChannel, m)\n",
    "    c.startMonitor('')\n",
    "    while 1:\n",
    "        pass"
   ]
  },
  {
   "cell_type": "code",
   "execution_count": 9,
   "metadata": {},
   "outputs": [
    {
     "name": "stdout",
     "output_type": "stream",
     "text": [
      "Waiting on pva data\n",
      "Got image uid: 2\n"
     ]
    },
    {
     "ename": "KeyboardInterrupt",
     "evalue": "",
     "output_type": "error",
     "traceback": [
      "\u001b[0;31m---------------------------------------------------------------------------\u001b[0m",
      "\u001b[0;31mKeyboardInterrupt\u001b[0m                         Traceback (most recent call last)",
      "Cell \u001b[0;32mIn[9], line 25\u001b[0m\n\u001b[1;32m     23\u001b[0m \u001b[39mexcept\u001b[39;00m:\n\u001b[1;32m     24\u001b[0m     \u001b[39mprint\u001b[39m(\u001b[39m'\u001b[39m\u001b[39mWaiting on pva data\u001b[39m\u001b[39m'\u001b[39m)\n\u001b[0;32m---> 25\u001b[0m time\u001b[39m.\u001b[39;49msleep(\u001b[39m3\u001b[39;49m)\n",
      "\u001b[0;31mKeyboardInterrupt\u001b[0m: "
     ]
    },
    {
     "data": {
      "image/png": "[encoded data removed]",
      "text/plain": [
       "<Figure size 640x480 with 1 Axes>"
      ]
     },
     "metadata": {},
     "output_type": "display_data"
    }
   ],
   "source": [
    "fig, ax = plt.subplots()\n",
    "ax.set_xticks([])\n",
    "ax.set_yticks([])\n",
    "\n",
    "pvaChannel = '13SIM1:Pva1:Image'\n",
    "m = pvaMonitor(fig, ax)\n",
    "img = ax.imshow(np.zeros((1024,1024)) if m.data is None else m.data, 'inferno')\n",
    "# show()\n",
    "m.img = img\n",
    "if __name__ == '__main__':\n",
    "    c = main(pvaChannel, m)\n",
    "    c.startMonitor('')\n",
    "    cts = 0\n",
    "    while 1:\n",
    "        try:\n",
    "            if cts < c.getMonitorCounters()['nReceived']:\n",
    "                print('in here')\n",
    "                plt.clf()\n",
    "                img = ax.imgshow(m.data, 'inferno')\n",
    "                fig.canvas.draw()\n",
    "                fig.canvas.flush_events()\n",
    "                cts = c.getMonitorCounters()['nReceived']\n",
    "        except:\n",
    "            print('Waiting on pva data')\n",
    "        time.sleep(3)\n",
    "    # img = ax.imshow(np.zeros((1024,1024)) if m.data is None else m.data, 'inferno')\n",
    "    # while 1:\n",
    "    #     img.set_data(np.zeros((1024,1024)) if m.data is None else m.data)\n",
    "    #     # img = ax.imshow(np.zeros((1024,1024)) if m.data is None else m.data, 'inferno')\n",
    "    #     plt.show()\n",
    "    #     time.sleep(1)"
   ]
  },
  {
   "cell_type": "code",
   "execution_count": 9,
   "metadata": {},
   "outputs": [
    {
     "data": {
      "text/plain": [
       "<matplotlib.image.AxesImage at 0x7f41127d65b0>"
      ]
     },
     "execution_count": 9,
     "metadata": {},
     "output_type": "execute_result"
    },
    {
     "data": {
      "image/png": "[encoded data removed]",
      "text/plain": [
       "<Figure size 640x480 with 1 Axes>"
      ]
     },
     "metadata": {},
     "output_type": "display_data"
    }
   ],
   "source": [
    "plt.imshow(m.data)\n"
   ]
  },
  {
   "cell_type": "code",
   "execution_count": 12,
   "metadata": {},
   "outputs": [
    {
     "data": {
      "text/plain": [
       "({'ubyteValue': array([217, 218, 219, ..., 213, 214, 215], dtype=uint8)},\n",
       " {'ubyteValue': [pvaccess.pvaccess.ScalarType.UBYTE]})"
      ]
     },
     "execution_count": 12,
     "metadata": {},
     "output_type": "execute_result"
    }
   ],
   "source": [
    "d['value']"
   ]
  },
  {
   "cell_type": "code",
   "execution_count": 32,
   "metadata": {},
   "outputs": [
    {
     "data": {
      "text/plain": [
       "{'nReceived': 20, 'nOverruns': 0}"
      ]
     },
     "execution_count": 32,
     "metadata": {},
     "output_type": "execute_result"
    }
   ],
   "source": [
    "c.getMonitorCounters()"
   ]
  },
  {
   "cell_type": "code",
   "execution_count": 33,
   "metadata": {},
   "outputs": [],
   "source": [
    "d = c.getMonitorMaxQueueLength()"
   ]
  },
  {
   "cell_type": "code",
   "execution_count": 37,
   "metadata": {},
   "outputs": [
    {
     "name": "stdout",
     "output_type": "stream",
     "text": [
      "['__call__', '__class__', '__delattr__', '__dir__', '__doc__', '__eq__', '__format__', '__func__', '__ge__', '__get__', '__getattribute__', '__gt__', '__hash__', '__init__', '__init_subclass__', '__le__', '__lt__', '__ne__', '__new__', '__reduce__', '__reduce_ex__', '__repr__', '__self__', '__setattr__', '__sizeof__', '__str__', '__subclasshook__']\n"
     ]
    }
   ],
   "source": [
    "print(dir(c.qMonitor))"
   ]
  },
  {
   "cell_type": "code",
   "execution_count": null,
   "metadata": {},
   "outputs": [],
   "source": []
  }
 ],
 "metadata": {
  "kernelspec": {
   "display_name": "pva",
   "language": "python",
   "name": "python3"
  },
  "language_info": {
   "codemirror_mode": {
    "name": "ipython",
    "version": 3
   },
   "file_extension": ".py",
   "mimetype": "text/x-python",
   "name": "python",
   "nbconvert_exporter": "python",
   "pygments_lexer": "ipython3",
   "version": "3.9.16"
  },
  "orig_nbformat": 4,
  "vscode": {
   "interpreter": {
    "hash": "1b291fcab31b2202b463e73de50e217207890ec9529a05eedcd366278c042c32"
   }
  }
 },
 "nbformat": 4,
 "nbformat_minor": 2
}
